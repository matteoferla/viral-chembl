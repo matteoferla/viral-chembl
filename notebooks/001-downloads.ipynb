{
 "cells": [
  {
   "cell_type": "markdown",
   "id": "85a617ec-4f6d-4223-ae64-da639eed902f",
   "metadata": {},
   "source": [
    "In SABS Cheminformatics module for Michealmas 2024, I used ChEMBL 34.\n",
    "Since December version 35 is out."
   ]
  },
  {
   "cell_type": "code",
   "execution_count": null,
   "id": "ad38d06e-2448-4b5a-ad54-c3d5913f6dfb",
   "metadata": {},
   "outputs": [],
   "source": [
    "%%bash\n",
    "\n",
    "# downloading to tmp\n",
    "\n",
    "curl https://ftp.ebi.ac.uk/pub/databases/chembl/ChEMBLdb/latest/chembl_35.sdf.gz --output chembl_35.sdf.gz\n",
    "curl https://ftp.ebi.ac.uk/pub/databases/chembl/ChEMBLdb/latest/chembl_35_sqlite.tar.gz --output chembl_35_sqlite.tar.gz\n",
    "\n",
    "tar -xzvf chembl_35_sqlite.tar.gz -C /tmp/\n",
    "\n",
    "# NCBI taxonomy\n",
    "\n",
    "curl -o /tmp/taxdmp.zip https://ftp.ncbi.nih.gov/pub/taxonomy/taxdmp.zip\n",
    "unzip -o /tmp/taxdmp.zip -d /tmp\n",
    "\n",
    "# biochemgraph\n",
    "\n",
    "???? bioactivity_report_full.tsv\n",
    "\n",
    "# Uniprot tax-ids\n",
    "\n",
    "curl -O https://ftp.uniprot.org/pub/databases/uniprot/current_release/knowledgebase/idmapping/idmapping_selected.tab.gz --output idmapping_selected.tab.gz \n",
    "tar -xzvf idmapping_selected.tab.gz -C /tmp/\n",
    "\n",
    "clear; echo 'DONE'"
   ]
  },
  {
   "cell_type": "code",
   "execution_count": null,
   "id": "54db5e83-6aad-412c-bf3d-246352634b66",
   "metadata": {},
   "outputs": [],
   "source": [
    "from papyrus_scripts.download import download_papyrus\n",
    "\n",
    "download_papyrus(version='latest', structures=True, descriptors='all', outdir='/tmp/papyrus')"
   ]
  },
  {
   "cell_type": "code",
   "execution_count": null,
   "id": "ed9a481f-5739-454e-b9fb-eaa0f0fdd7d2",
   "metadata": {},
   "outputs": [],
   "source": [
    "from papyrus_scripts.reader import read_papyrus\n",
    "from papyrus_scripts.preprocess import (keep_quality, keep_type, keep_accession,\n",
    "                                        consume_chunks\n",
    "                                       )\n",
    "from papyrus_scripts.matchRCSB import get_matches\n",
    "\n",
    "papyrus_data = read_papyrus(is3d=False, chunksize=1000000, source_path='/tmp/papyrus')\n",
    "papyrus_data = consume_chunks(papyrus_data, progress=True, total=None)\n",
    "\n",
    "PDB_matches = get_matches(papyrus_data, verbose=True)"
   ]
  },
  {
   "cell_type": "code",
   "execution_count": null,
   "id": "0b87453f-46af-4876-afb6-cd07ef0fdfbc",
   "metadata": {},
   "outputs": [],
   "source": [
    "PDB_matches.to_csv('PDB_matches.csv')"
   ]
  },
  {
   "cell_type": "code",
   "execution_count": null,
   "id": "21257cc6-32bc-4ecd-9a01-f5dfce866103",
   "metadata": {},
   "outputs": [],
   "source": []
  }
 ],
 "metadata": {
  "kernelspec": {
   "display_name": "Python [conda env:base] *",
   "language": "python",
   "name": "conda-base-py"
  },
  "language_info": {
   "codemirror_mode": {
    "name": "ipython",
    "version": 3
   },
   "file_extension": ".py",
   "mimetype": "text/x-python",
   "name": "python",
   "nbconvert_exporter": "python",
   "pygments_lexer": "ipython3",
   "version": "3.11.10"
  }
 },
 "nbformat": 4,
 "nbformat_minor": 5
}