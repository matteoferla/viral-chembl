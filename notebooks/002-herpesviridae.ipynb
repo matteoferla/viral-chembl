{
 "cells": [
  {
   "cell_type": "markdown",
   "id": "1fbbc685-8518-40ad-bbd0-c460592999fd",
   "metadata": {},
   "source": [
    "## Test case\n",
    "\n",
    "I am using the herpes clade as I know a ligand exists, aciclovir,\n",
    "and I know PDB exist. And it's not data explosion..."
   ]
  },
  {
   "cell_type": "code",
   "execution_count": null,
   "id": "607f1616-ce00-4698-8bc3-b5a0108c4bee",
   "metadata": {},
   "outputs": [],
   "source": [
    "herpesviridae_taxid = 10292\n",
    "\n",
    "\n",
    "import pandas as pd\n",
    "from boilerplate import list_tables, get_table_schema, sample, print_size\n",
    "import sqlite3\n",
    "import json\n",
    "from pathlib import Path\n",
    "from typing import List, Dict, Set\n",
    "\n",
    "conn = sqlite3.connect('/tmp/chembl_35/chembl_35_sqlite/chembl_35.db')\n",
    "cursor = conn.cursor()"
   ]
  },
  {
   "cell_type": "code",
   "execution_count": null,
   "id": "f262ca20-54fa-48e9-a039-32a7744e2783",
   "metadata": {},
   "outputs": [],
   "source": [
    "herpesviridae_taxid = 10292  # this seems missing for some?\n",
    "herpesvirales_taxid = 548681"
   ]
  },
  {
   "cell_type": "code",
   "execution_count": null,
   "id": "53b2dae6-ae75-4955-83d9-2a10b246ec7f",
   "metadata": {},
   "outputs": [],
   "source": [
    "from boilerplate import TaxIdMapper\n",
    "\n",
    "taxid_mapper = TaxIdMapper()\n",
    "taxid_to_parent = taxid_mapper.taxid_to_parent\n",
    "taxid_to_parent[herpesviridae_taxid]"
   ]
  },
  {
   "cell_type": "code",
   "execution_count": null,
   "id": "01d23bf9-c441-4344-acaf-a5f8a7172c8e",
   "metadata": {},
   "outputs": [],
   "source": [
    "relevant_taxids = taxid_mapper[herpesvirales_taxid]\n",
    "TaxIdMapper.populate_descendants(relevant_taxids)\n",
    "print(f'{len(relevant_taxids)} matches final')"
   ]
  },
  {
   "cell_type": "code",
   "execution_count": null,
   "id": "0738f6ce-688c-49c1-9d50-a7b8c3a10618",
   "metadata": {},
   "outputs": [],
   "source": [
    "#varicella\n",
    "10319 in relevant_taxids"
   ]
  },
  {
   "cell_type": "code",
   "execution_count": null,
   "id": "2df8a5b6-a6c3-4ffe-9d4d-f826811d6516",
   "metadata": {},
   "outputs": [],
   "source": [
    "import json\n",
    "\n",
    "json.dump(relevant_taxids, Path('herpesvirales_taxids.json').open('w'))"
   ]
  },
  {
   "cell_type": "code",
   "execution_count": null,
   "id": "13207851-d39e-4ae9-974b-39ce81886310",
   "metadata": {},
   "outputs": [],
   "source": [
    "import json\n",
    "\n",
    "relevant_taxids = json.load(Path('herpesvirales_taxids.json').open('r'))"
   ]
  },
  {
   "cell_type": "code",
   "execution_count": null,
   "id": "25a1f04e-18d5-4ea8-8258-047898336198",
   "metadata": {},
   "outputs": [],
   "source": [
    "#kd_like_types = [\"Kd\", \"KD\", \"Potency\", \"Binding affinity\", \"pKD\", \"Log K\", \"K\", \"Kb\", \"Log Ki\", \"log1/Ki\", \"Ka\"]\n",
    "\n",
    "placeholders = ','.join(f\"'{s}'\" for s in relevant_taxids)\n",
    "query = f\"SELECT * FROM assays WHERE assay_tax_id IN ({placeholders})\"\n",
    "assays = pd.read_sql_query(query, conn)"
   ]
  },
  {
   "cell_type": "code",
   "execution_count": null,
   "id": "aff8c336-f918-4a4e-b38e-9df20b900a51",
   "metadata": {},
   "outputs": [],
   "source": [
    "assays = assays.loc[assays.assay_type == 'B']\n",
    "print(f'{len(assays)} biochem assays for {len(assays.assay_tax_id.unique())} taxa')"
   ]
  },
  {
   "cell_type": "code",
   "execution_count": null,
   "id": "51eb6447-17f9-40a4-b398-0155f1a855dd",
   "metadata": {},
   "outputs": [],
   "source": [
    "from typing import Dict\n",
    "\n",
    "taxids = assays.assay_tax_id.unique()\n",
    "taxid_to_name: Dict[int, str] = {}\n",
    "\n",
    "with open(\"/tmp/names.dmp\") as f:\n",
    "    for line in f:\n",
    "        parts = [p.strip() for p in line.split(\"|\")]\n",
    "        taxid, name_txt, name_class = parts[0], parts[1], parts[3]\n",
    "        if int(taxid) in taxids and name_class == \"scientific name\":\n",
    "            taxid_to_name[int(taxid)] = name_txt\n",
    "\n",
    "for tid in taxids:\n",
    "    print(f\"{tid}\\t{taxid_to_name.get(tid, 'Name not found')}\")"
   ]
  },
  {
   "cell_type": "code",
   "execution_count": null,
   "id": "a277ea96-868b-482a-8671-dc6407262c51",
   "metadata": {},
   "outputs": [],
   "source": [
    "placeholders = ','.join(f\"'{s}'\" for s in assays.assay_id)\n",
    "query = f\"SELECT * FROM activities WHERE assay_id IN ({placeholders})\"\n",
    "activities = pd.read_sql_query(query, conn)"
   ]
  },
  {
   "cell_type": "code",
   "execution_count": null,
   "id": "214f3127-97a1-448d-845f-617323e48f32",
   "metadata": {},
   "outputs": [],
   "source": [
    "activities['unit_scale']=activities.standard_units.apply(molar_scale)"
   ]
  },
  {
   "cell_type": "code",
   "execution_count": null,
   "id": "190b47b9-601a-411c-a528-d619fb3f28a4",
   "metadata": {},
   "outputs": [],
   "source": [
    "activities['assay_tax_id'] = activities.assay_id.map( assays.set_index('assay_id').assay_tax_id.to_dict() ).fillna(-1)\n",
    "activities['assay_organism'] = activities.assay_tax_id.map(taxid_to_name)"
   ]
  },
  {
   "cell_type": "code",
   "execution_count": null,
   "id": "2e01f6fc-d43c-4b03-83e8-37f3d2019a50",
   "metadata": {},
   "outputs": [],
   "source": [
    "import plotly.express as px\n",
    "import numpy as np\n",
    "\n",
    "activities['pK'] = - (activities.unit_scale * activities.standard_value).apply(np.log10)\n",
    "\n",
    "sub = activities.loc[(~activities.pK.isna())].sort_values('pK', ascending=False).drop_duplicates(['molregno', 'assay_organism'])\n",
    "px.box(sub, x='pK',\n",
    "             y='assay_organism',\n",
    "             template='plotly_white',\n",
    "             title=f'Distribution of {len(sub):,} pK activities (Kd, Ki, IC50 etc not separated) of herpesvirales',).show()\n",
    "\n",
    "sub = activities.loc[(activities.standard_type == 'Kd') & (~activities.pK.isna())].sort_values('pK', ascending=False).drop_duplicates(['molregno', 'assay_organism'])\n",
    "px.box(sub,\n",
    "       points='all',\n",
    "       x='pK',\n",
    "             y='assay_organism',\n",
    "             template='plotly_white',\n",
    "             title=f'Distribution of {len(sub)} pKd activities of herpesvirales',).show()\n"
   ]
  },
  {
   "cell_type": "code",
   "execution_count": null,
   "id": "973e5eef-8cf5-4af5-9e06-2693990dc834",
   "metadata": {},
   "outputs": [],
   "source": [
    "placeholders = ', '.join(activities.molregno.astype(str).apply(\"'{}'\".format).unique())\n",
    "\n",
    "query = f\"SELECT * FROM COMPOUND_STRUCTURES WHERE molregno IN ({placeholders})\"\n",
    "molregno = pd.read_sql_query(query, conn)"
   ]
  },
  {
   "cell_type": "code",
   "execution_count": null,
   "id": "0b380c4f-27ad-43f4-90c0-f4ff7fc9f759",
   "metadata": {},
   "outputs": [],
   "source": [
    "activities['standard_inchi_key'] = activities.molregno.map( molregno.set_index('molregno').standard_inchi_key.to_dict() )"
   ]
  },
  {
   "cell_type": "markdown",
   "id": "68fae507-b09d-4748-83ce-1f052e7aa794",
   "metadata": {},
   "source": [
    "## Get PDB using Papyrus\n",
    "\n",
    "This is a problematic."
   ]
  },
  {
   "cell_type": "code",
   "execution_count": null,
   "id": "11d858dc-b631-4c2c-8731-6a0edfd0ea1e",
   "metadata": {},
   "outputs": [],
   "source": [
    "PDB_matches = pd.read_csv('PDB_matches.csv')  # papyrus. crap it's chembl34\n",
    "PDB_matches.columns"
   ]
  },
  {
   "cell_type": "markdown",
   "id": "64cfdebb-15ae-4a80-9fbe-cab9f3c9b84a",
   "metadata": {},
   "source": [
    "A compound may be tested in multiple assays,\n",
    "so this first pass is 'imperfect'"
   ]
  },
  {
   "cell_type": "code",
   "execution_count": null,
   "id": "85975ba1-0469-4b7e-b121-47536fdc52ce",
   "metadata": {},
   "outputs": [],
   "source": [
    "imperfect_pdb = pd.merge(activities, PDB_matches, how='inner', left_on='standard_inchi_key', right_on='InChIKey')"
   ]
  },
  {
   "cell_type": "code",
   "execution_count": null,
   "id": "bec3bc85-386d-47b0-9ce2-be8bb3498314",
   "metadata": {},
   "outputs": [],
   "source": [
    "present_assay_ids = set( assays.assay_id.values )\n",
    "\n",
    "all_matches = []\n",
    "for aid in imperfect_pdb.AID:\n",
    "    matches = set(map(int, aid.replace('CHEMBL', '').split(';'))).intersection( present_assay_ids )\n",
    "    if matches:\n",
    "        print(matches)\n",
    "        print(aid)\n",
    "        all_matches.append(matches)\n",
    "\n",
    "print(f'Number matched {len(all_matches)}')"
   ]
  },
  {
   "cell_type": "markdown",
   "id": "e2974ded-2797-4826-8dd2-2d1b97e9f669",
   "metadata": {},
   "source": [
    "The above is not good...\n",
    "\n",
    "## Aciclovir test"
   ]
  },
  {
   "cell_type": "code",
   "execution_count": null,
   "id": "b18404d5-6edb-45de-9459-694c2e2cf641",
   "metadata": {},
   "outputs": [],
   "source": [
    "molregno.loc[molregno.standard_inchi_key == 'MKUXAQIIEYXACX-UHFFFAOYSA-N']"
   ]
  },
  {
   "cell_type": "code",
   "execution_count": null,
   "id": "b6feaf4d-5706-4f05-a7c7-a15902863636",
   "metadata": {},
   "outputs": [],
   "source": [
    "activities.loc[activities.molregno == 365538].groupby('assay_organism').standard_type.value_counts()"
   ]
  },
  {
   "cell_type": "code",
   "execution_count": null,
   "id": "8a13e0fe-bb5e-4e86-9523-e832bc7953b6",
   "metadata": {},
   "outputs": [],
   "source": [
    "activities.loc[activities.molregno == 365538].assay_id.unique()"
   ]
  },
  {
   "cell_type": "code",
   "execution_count": null,
   "id": "89d4560a-eb1f-449a-99b1-9416a6c86acc",
   "metadata": {},
   "outputs": [],
   "source": [
    "PDB_matches.loc[PDB_matches.InChIKey == 'MKUXAQIIEYXACX-UHFFFAOYSA-N']\\\n",
    "[['PDBID_protein', 'AID', 'target_id', 'TID', 'accession', 'uniprot_tax_id']]"
   ]
  },
  {
   "cell_type": "code",
   "execution_count": null,
   "id": "49b174e2-69cb-48f5-b93b-92f9fb3d606b",
   "metadata": {},
   "outputs": [],
   "source": [
    "print(_.to_markdown(index=False))"
   ]
  },
  {
   "cell_type": "code",
   "execution_count": null,
   "id": "143c85fd-a4fd-4e24-bd48-8d18525c146b",
   "metadata": {},
   "outputs": [],
   "source": [
    "assays.tid"
   ]
  },
  {
   "cell_type": "code",
   "execution_count": null,
   "id": "a09dd5ee-424e-4dd5-95c8-e20ba5c24360",
   "metadata": {},
   "outputs": [],
   "source": [
    "imperfect_pdb.loc[imperfect_pdb.InChIKey == 'MKUXAQIIEYXACX-UHFFFAOYSA-N']\\\n",
    "[['activity_id','assay_id','record_id', 'PDBID_protein', 'AID', 'target_id', 'TID', 'accession']]"
   ]
  },
  {
   "cell_type": "markdown",
   "id": "91338f3f-e846-4464-bd03-2b6c1288fde7",
   "metadata": {},
   "source": [
    "I am struggling to match Chembl assay ID to the papyrus data.\n",
    "Plus the Chembl34 is a problem.\n",
    "\n",
    "Trying the new https://www.ebi.ac.uk/about/news/updates-from-data-resources/biochemgraph-data"
   ]
  },
  {
   "cell_type": "markdown",
   "id": "affca34d-c86c-4df1-a2b4-b9fac2acdec9",
   "metadata": {},
   "source": [
    "## biochemgraph\n",
    "\n",
    "This set goes by `CHEMBL_ID_TAR` not assay."
   ]
  },
  {
   "cell_type": "code",
   "execution_count": null,
   "id": "e40dae60-0a8d-41ee-953f-a1f37f84bedd",
   "metadata": {},
   "outputs": [],
   "source": [
    "import gzip\n",
    "from typing import Dict\n",
    "\n",
    "def load_uniprot_taxid_mapping(mapping_file: str) -> Dict[str, int]:\n",
    "    mapping = {}\n",
    "    with gzip.open(mapping_file, 'rt') as f:\n",
    "        for line in f:\n",
    "            parts = line.strip().split('\\t')\n",
    "            mapping[parts[0].strip()] = int(parts[12].strip())\n",
    "            mapping[parts[1].strip()] = int(parts[12].strip())\n",
    "    return mapping\n",
    "\n",
    "uniprot2taxid = load_uniprot_taxid_mapping('idmapping_selected.tab.gz')"
   ]
  },
  {
   "cell_type": "code",
   "execution_count": null,
   "id": "f88588bc-f07d-4ddf-a172-e05c4f22add7",
   "metadata": {},
   "outputs": [],
   "source": [
    "import json\n",
    "\n",
    "json.dump(uniprot2taxid, Path('uniprot2taxid.json').open('w'))"
   ]
  },
  {
   "cell_type": "code",
   "execution_count": null,
   "id": "40681047-9eee-403c-adf4-5856b7bc5aa5",
   "metadata": {},
   "outputs": [],
   "source": [
    "import pandas as pd\n",
    "\n",
    "bioactivities = pd.read_csv('bioactivity_report_full.tsv', delimiter='\\t')"
   ]
  },
  {
   "cell_type": "code",
   "execution_count": null,
   "id": "3e9f2692-6920-4b45-98a7-765130164441",
   "metadata": {},
   "outputs": [],
   "source": [
    "len(bioactivities)"
   ]
  },
  {
   "cell_type": "code",
   "execution_count": null,
   "id": "122cded1-fb33-4753-be57-c5f48588faa9",
   "metadata": {},
   "outputs": [],
   "source": [
    "from tqdm import tqdm\n",
    "tqdm.pandas()\n",
    "import gzip\n",
    "from typing import Dict\n",
    "\n",
    "_dejavu={}\n",
    "def get_taxid(uniprot, mapping_file: str='idmapping_selected.tab.gz') -> int:\n",
    "    if uniprot in _dejavu:\n",
    "        return _dejavu[uniprot]\n",
    "    with gzip.open(mapping_file, 'rt') as f:\n",
    "        for line in f:\n",
    "            if uniprot in line:\n",
    "                parts = line.strip().split('\\t')\n",
    "                _dejavu[uniprot] = int(parts[12].strip())\n",
    "                return int(parts[12].strip())\n",
    "    return -1\n",
    "\n",
    "bioactivities['tax_id'] = bioactivities.UNIPROT.progress_apply(get_taxid)"
   ]
  },
  {
   "cell_type": "code",
   "execution_count": null,
   "id": "78d98597-9bbe-459e-b76d-37e61254526d",
   "metadata": {},
   "outputs": [],
   "source": [
    "bioactivities.to_pickle('bioactivities.pkl.gz')"
   ]
  },
  {
   "cell_type": "code",
   "execution_count": null,
   "id": "8d81cba8-4d82-4fd5-86fc-6538637be007",
   "metadata": {},
   "outputs": [],
   "source": [
    "#bioactivities # CHEMBL_ID_TAR CHEMBL_ID_MOL STANDARD_TYPE\n",
    "len(bioactivities)"
   ]
  },
  {
   "cell_type": "code",
   "execution_count": null,
   "id": "664483af-91d6-4c24-9f01-e2369d12f76a",
   "metadata": {},
   "outputs": [],
   "source": [
    "bioactivities['tax_id']"
   ]
  },
  {
   "cell_type": "code",
   "execution_count": null,
   "id": "0472b6b0-0908-469c-b97e-6e44ebd969c6",
   "metadata": {},
   "outputs": [],
   "source": [
    "from boilerplate import TaxIdMapper"
   ]
  },
  {
   "cell_type": "code",
   "execution_count": null,
   "id": "14b7bb6f-5d9c-43d3-b1bf-8838a50f201e",
   "metadata": {},
   "outputs": [],
   "source": [
    "# is a human a mammal?\n",
    "taxidmapper = TaxIdMapper(target_ids=(40674,))\n",
    "taxidmapper.has_ancestor_in_set(9606)"
   ]
  },
  {
   "cell_type": "code",
   "execution_count": null,
   "id": "22fd9535-5dee-4fe2-af2c-c35f15d81338",
   "metadata": {},
   "outputs": [],
   "source": [
    "herpesviridae_taxid = 10292  # this seems missing for some?\n",
    "herpesvirales_taxid = 548681\n",
    "\n",
    "bioactivities['is_herpesvirales'] = bioactivities.tax_id.progress_apply(TaxIdMapper(target_ids=(herpesvirales_taxid,herpesviridae_taxid)).has_ancestor_in_set)"
   ]
  },
  {
   "cell_type": "code",
   "execution_count": null,
   "id": "1aa4dbdb-2ec4-4f38-9ccd-96f5de6c074a",
   "metadata": {},
   "outputs": [],
   "source": [
    "bioactivities.loc[bioactivities['is_herpesvirales']]"
   ]
  },
  {
   "cell_type": "code",
   "execution_count": null,
   "id": "abb3e161-39eb-4050-9a1a-6fb40ca8373e",
   "metadata": {},
   "outputs": [],
   "source": [
    "PDB_matches['uniprot_tax_id'] = PDB_matches.accession.progress_apply(get_taxid)"
   ]
  },
  {
   "cell_type": "code",
   "execution_count": null,
   "id": "0b084c3e-d199-467a-a536-b9a7dc925f99",
   "metadata": {},
   "outputs": [],
   "source": [
    "target_ids={herpesvirales_taxid,herpesviridae_taxid}\n",
    "PDB_matches['is_herpesvirales'] = PDB_matches.uniprot_tax_id.progress_apply(taxid_mapper.has_ancestor_in_set)"
   ]
  },
  {
   "cell_type": "code",
   "execution_count": null,
   "id": "13e7d733-3ccb-439c-9fb8-53b99328e24c",
   "metadata": {},
   "outputs": [],
   "source": [
    "PDB_matches.loc[PDB_matches['is_herpesvirales']]"
   ]
  },
  {
   "cell_type": "markdown",
   "id": "a890aa65-d5e5-4c3a-9055-e3b7d22708b1",
   "metadata": {},
   "source": [
    "## PDB"
   ]
  },
  {
   "cell_type": "code",
   "execution_count": null,
   "id": "a90ffd86-5b0d-40ac-8de2-44f9013dd13f",
   "metadata": {},
   "outputs": [],
   "source": [
    "PDB_matches.loc[PDB_matches.PDBID_protein.isin(list(map(str.lower, '8V1T 7LUF 8VQ2 1NKM 8J3T 7TCZ'.split())))]"
   ]
  },
  {
   "cell_type": "markdown",
   "id": "45352e93-2258-43cd-92be-eadf160eff5f",
   "metadata": {},
   "source": [
    "## TID"
   ]
  },
  {
   "cell_type": "code",
   "execution_count": null,
   "id": "a6262ede-e11b-445d-ab91-640241157961",
   "metadata": {},
   "outputs": [],
   "source": [
    "see in junk"
   ]
  },
  {
   "cell_type": "markdown",
   "id": "3367cdbe-f6bd-4f89-9425-01b566a951bb",
   "metadata": {},
   "source": [
    "## Save"
   ]
  },
  {
   "cell_type": "code",
   "execution_count": null,
   "id": "798a838d-bd33-4a18-9d68-4425dd533739",
   "metadata": {},
   "outputs": [],
   "source": [
    "activities.to_csv('herpesvirales_activities.csv')"
   ]
  },
  {
   "cell_type": "code",
   "execution_count": null,
   "id": "e9573377-47c2-4f5d-ac2c-075c5a93b1f7",
   "metadata": {},
   "outputs": [],
   "source": [
    "bioactivities.drop(columns=['is_herpesvirales']).to_csv('bioactivities_w_taxid.csv')"
   ]
  },
  {
   "cell_type": "markdown",
   "id": "399ab590-7a93-4110-b03b-e2880a738cfc",
   "metadata": {},
   "source": [
    "# Junk"
   ]
  },
  {
   "cell_type": "code",
   "execution_count": null,
   "id": "ca9f5d96-bede-45cb-bc70-c20fe05bd505",
   "metadata": {},
   "outputs": [],
   "source": [
    "activities.loc[activities.assay_tax_id.isna()]"
   ]
  },
  {
   "cell_type": "code",
   "execution_count": null,
   "id": "c85ec289-4f0e-4e72-a8a5-01f630ef4a62",
   "metadata": {},
   "outputs": [],
   "source": [
    "assays.loc[~assays.assay_id.isin(assays.assay_id.values)]"
   ]
  },
  {
   "cell_type": "code",
   "execution_count": null,
   "id": "f949a987-84f5-45d0-a8d9-b22c1463d5f1",
   "metadata": {},
   "outputs": [],
   "source": [
    "activities.loc[activities.assay_tax_id.isna()]"
   ]
  },
  {
   "cell_type": "code",
   "execution_count": null,
   "id": "ac0422e2-b6a6-4fda-b87f-e85e29b3799d",
   "metadata": {},
   "outputs": [],
   "source": [
    "activities.assay_organism.fillna('NaN').value_counts()"
   ]
  },
  {
   "cell_type": "code",
   "execution_count": null,
   "id": "343f1b61-49ec-4c3d-9039-dd27c7bd1d55",
   "metadata": {},
   "outputs": [],
   "source": [
    "activities.assay_id.fillna(-1).value_counts()"
   ]
  },
  {
   "cell_type": "code",
   "execution_count": null,
   "id": "1ef4bb7a-c98c-45dc-b752-f574abb769b4",
   "metadata": {},
   "outputs": [],
   "source": []
  },
  {
   "cell_type": "code",
   "execution_count": null,
   "id": "9ddcc81a-9bb0-474f-b1c5-04ca6516b2e4",
   "metadata": {},
   "outputs": [],
   "source": [
    "assays.columns"
   ]
  },
  {
   "cell_type": "code",
   "execution_count": null,
   "id": "011b8f85-1cd1-49fa-be04-3f4c5e85cc54",
   "metadata": {},
   "outputs": [],
   "source": [
    "assays[['assay_id', 'tid', 'description', 'assay_tax_id']].sample(5)"
   ]
  },
  {
   "cell_type": "code",
   "execution_count": null,
   "id": "eecc30fe-4f16-4132-8baa-c1e4635498f6",
   "metadata": {},
   "outputs": [],
   "source": [
    "assays.tid.fillna('NA').value_counts().head(10)"
   ]
  },
  {
   "cell_type": "code",
   "execution_count": null,
   "id": "31bf7c33-389d-4038-a129-5a0b557fbb1d",
   "metadata": {},
   "outputs": [],
   "source": [
    "print(_.to_markdown(index=False))"
   ]
  },
  {
   "cell_type": "code",
   "execution_count": null,
   "id": "d79af541-86fd-47ab-9e89-edd7990558b7",
   "metadata": {},
   "outputs": [],
   "source": [
    "query = f\"SELECT * FROM target_components WHERE tid IN (22226,100288,10125)\"\n",
    "target_components = pd.read_sql_query(query, conn)\n",
    "target_components"
   ]
  },
  {
   "cell_type": "code",
   "execution_count": null,
   "id": "ba45af4c-d17c-479f-9413-1c30239255fb",
   "metadata": {},
   "outputs": [],
   "source": [
    "print(_.to_markdown(index=False))"
   ]
  },
  {
   "cell_type": "code",
   "execution_count": null,
   "id": "2d10c123-119c-4bb4-ac0f-4be7c4cd619f",
   "metadata": {},
   "outputs": [],
   "source": [
    "\n",
    "query = f\"SELECT * FROM target_dictionary WHERE tid IN (98,22222,10125,22226,100288,10125)\"\n",
    "target_dictionary = pd.read_sql_query(query, conn)\n",
    "target_dictionary"
   ]
  },
  {
   "cell_type": "code",
   "execution_count": null,
   "id": "405cafea-8b4e-456d-8652-97be46382929",
   "metadata": {},
   "outputs": [],
   "source": [
    "print(_.to_markdown(index=False))"
   ]
  },
  {
   "cell_type": "code",
   "execution_count": null,
   "id": "f48635d1-055b-4084-8f0b-cf598e888aec",
   "metadata": {},
   "outputs": [],
   "source": [
    "JOIN target_dictionary td ON a.tid = td.target_id\n",
    "JOIN target_components tc ON td.target_id = tc.target_id\n",
    "JOIN component_sequences cs ON tc.component_id = cs.component_id"
   ]
  },
  {
   "cell_type": "code",
   "execution_count": null,
   "id": "b0de10eb-738e-4d3f-8f5c-60af12c23494",
   "metadata": {},
   "outputs": [],
   "source": [
    "sample(conn, 'target_dictionary')"
   ]
  },
  {
   "cell_type": "code",
   "execution_count": null,
   "id": "f23dd37f-1fe8-40a1-8eb2-5bb7df74f86a",
   "metadata": {},
   "outputs": [],
   "source": [
    "sample(conn, 'component_sequences')"
   ]
  },
  {
   "cell_type": "code",
   "execution_count": null,
   "id": "96d1524e-a828-4672-a90b-4f1cdd1b65bb",
   "metadata": {},
   "outputs": [],
   "source": []
  },
  {
   "cell_type": "code",
   "execution_count": null,
   "id": "91a39256-b662-45c0-accd-153133bb2045",
   "metadata": {},
   "outputs": [],
   "source": [
    "len(taxid2rank)"
   ]
  },
  {
   "cell_type": "code",
   "execution_count": null,
   "id": "372913dd-b5f0-41f2-a404-1a838bf16e91",
   "metadata": {},
   "outputs": [],
   "source": []
  },
  {
   "cell_type": "code",
   "execution_count": null,
   "id": "858031a9-883d-4f57-a22c-82562af678bf",
   "metadata": {},
   "outputs": [],
   "source": []
  },
  {
   "cell_type": "code",
   "execution_count": null,
   "id": "104f3038-491f-4b86-8849-ebff86e18d62",
   "metadata": {},
   "outputs": [],
   "source": []
  }
 ],
 "metadata": {
  "kernelspec": {
   "display_name": "Python [conda env:base] *",
   "language": "python",
   "name": "conda-base-py"
  },
  "language_info": {
   "codemirror_mode": {
    "name": "ipython",
    "version": 3
   },
   "file_extension": ".py",
   "mimetype": "text/x-python",
   "name": "python",
   "nbconvert_exporter": "python",
   "pygments_lexer": "ipython3",
   "version": "3.11.10"
  }
 },
 "nbformat": 4,
 "nbformat_minor": 5
}