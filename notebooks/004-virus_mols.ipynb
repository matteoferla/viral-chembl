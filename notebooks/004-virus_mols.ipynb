{
 "cells": [
  {
   "cell_type": "code",
   "execution_count": null,
   "id": "fef6bb70-830a-4150-84cf-2d6a9e376cf9",
   "metadata": {},
   "outputs": [],
   "source": [
    "import pandas as pd\n",
    "\n",
    "activities = pd.read_csv('viral_activities.csv')"
   ]
  },
  {
   "cell_type": "code",
   "execution_count": null,
   "id": "1a3207c2-5d74-45c4-950c-e4ae2fb4c41f",
   "metadata": {},
   "outputs": [],
   "source": [
    "import sqlite3\n",
    "\n",
    "conn = sqlite3.connect('/tmp/chembl_35/chembl_35_sqlite/chembl_35.db')\n",
    "cursor = conn.cursor()"
   ]
  },
  {
   "cell_type": "markdown",
   "id": "60871285-8953-4857-b33f-2ca1c9303296",
   "metadata": {},
   "source": [
    "# lets get the higher ranks"
   ]
  },
  {
   "cell_type": "code",
   "execution_count": null,
   "id": "398b4192-0e98-4dfd-b094-f537ba7712a6",
   "metadata": {},
   "outputs": [],
   "source": [
    "taxid2rank = {}\n",
    "\n",
    "with open(\"/tmp/nodes.dmp\") as f:\n",
    "    for line in f:\n",
    "        parts = [p.strip() for p in line.split(\"|\")]\n",
    "        taxid2rank[int(parts[0])] = parts[2]"
   ]
  },
  {
   "cell_type": "code",
   "execution_count": null,
   "id": "8d78d8c4-7905-4f70-8642-655f3a661769",
   "metadata": {},
   "outputs": [],
   "source": [
    "set(taxid2rank.values())"
   ]
  },
  {
   "cell_type": "code",
   "execution_count": null,
   "id": "a7033e49-de4b-4367-a313-8f426a2822da",
   "metadata": {},
   "outputs": [],
   "source": [
    "from pathlib import Path\n",
    "import json\n",
    "\n",
    "json.dump(taxid2rank, Path('taxid2rank.json').open('w'))"
   ]
  },
  {
   "cell_type": "code",
   "execution_count": null,
   "id": "7eef19e4-03ea-4569-b7a5-82105b5cdd8a",
   "metadata": {},
   "outputs": [],
   "source": [
    "from boilerplate import TaxIdMapper\n",
    "\n",
    "taxid_mapper = TaxIdMapper()"
   ]
  },
  {
   "cell_type": "code",
   "execution_count": null,
   "id": "0265709a-ea77-4beb-bdf8-bb878d306cdc",
   "metadata": {},
   "outputs": [],
   "source": [
    "taxid_mapper.taxid_to_parent"
   ]
  },
  {
   "cell_type": "code",
   "execution_count": null,
   "id": "0f22c1ba-7712-4335-88fa-b5c74a22d95a",
   "metadata": {},
   "outputs": [],
   "source": [
    "from tqdm import tqdm\n",
    "tqdm.pandas()\n",
    "\n",
    "def get_rank_id(tax_id, rank_name='genus'):\n",
    "    while True:\n",
    "        if tax_id in (-1, 0, 1, 2, 10239):\n",
    "            tax_id = -1\n",
    "            break\n",
    "        tax_id = taxid_mapper.taxid_to_parent.get(tax_id, -1)\n",
    "        if taxid2rank.get(tax_id, '') == rank_name:\n",
    "            return tax_id\n",
    "    return -1\n",
    "\n",
    "def get_genus_id(tax_id):\n",
    "    return get_rank_id(tax_id, rank_name='genus')\n",
    "\n",
    "def get_family_id(tax_id):\n",
    "    return get_rank_id(tax_id, rank_name='family')\n",
    "\n",
    "def get_class_id(tax_id):\n",
    "    return get_rank_id(tax_id, rank_name='class')\n",
    "\n",
    "def get_phylum_id(tax_id):\n",
    "    return get_rank_id(tax_id, rank_name='phylum')\n",
    "\n",
    "def get_realm_id(tax_id):\n",
    "    return get_rank_id(tax_id, rank_name='realm')\n",
    "\n",
    "\n",
    "activities['genus_id'] = activities.assay_tax_id.progress_apply(get_genus_id)\n",
    "activities['family_id'] = activities.assay_tax_id.progress_apply(get_family_id)\n",
    "activities['class_id'] = activities.assay_tax_id.progress_apply(get_class_id)\n",
    "activities['phylum_id'] = activities.assay_tax_id.progress_apply(get_phylum_id)\n",
    "activities['realm_id'] = activities.assay_tax_id.progress_apply(get_realm_id)"
   ]
  },
  {
   "cell_type": "code",
   "execution_count": null,
   "id": "5c684c00-e5e5-4bb8-9f8b-0f6b34bc9cf6",
   "metadata": {},
   "outputs": [],
   "source": [
    "activities.to_csv('viral_activities.csv')"
   ]
  },
  {
   "cell_type": "code",
   "execution_count": null,
   "id": "94e26bab-c9de-4237-8839-5f5bb986ae81",
   "metadata": {},
   "outputs": [],
   "source": [
    "from typing import Dict\n",
    "\n",
    "taxid_to_name: Dict[int, str] = globals().get('taxid_to_name', {})\n",
    "\n",
    "wanted = []\n",
    "for col in ('genus_id', 'family_id', 'class_id', 'phylum_id', 'realm_id'):\n",
    "    wanted.extend( activities[col].unique() )\n",
    "\n",
    "with open(\"/tmp/names.dmp\") as f:\n",
    "    for line in f:\n",
    "        parts = [p.strip() for p in line.split(\"|\")]\n",
    "        taxid, name_txt, name_class = parts[0], parts[1], parts[3]\n",
    "        if int(taxid) in wanted and name_class == \"scientific name\":\n",
    "            taxid_to_name[int(taxid)] = name_txt"
   ]
  },
  {
   "cell_type": "code",
   "execution_count": null,
   "id": "9ec8b20d-1338-47ff-8edc-e0c49a32121d",
   "metadata": {},
   "outputs": [],
   "source": [
    "len(taxid_to_name)"
   ]
  },
  {
   "cell_type": "code",
   "execution_count": null,
   "id": "8c70f426-7cb4-4052-8ae8-6e51cde0745d",
   "metadata": {},
   "outputs": [],
   "source": [
    "summary = \\\n",
    "activities.drop_duplicates(['assay_tax_id','molregno'])\\\n",
    "          .groupby(['standard_type', 'realm_id'])\\\n",
    "          .size().unstack(fill_value=0)\\\n",
    "          .drop(columns=[-1])\\\n",
    "          .loc[activities.standard_type.value_counts().head(10).index]\\\n",
    "          .rename(columns=taxid_to_name)\n",
    "summary.style.format(\"{:,}\")"
   ]
  },
  {
   "cell_type": "code",
   "execution_count": null,
   "id": "59064d4e-be8a-4484-838b-1d4a1bcab9a0",
   "metadata": {},
   "outputs": [],
   "source": [
    "summary = \\\n",
    "activities.drop_duplicates(['assay_tax_id','molregno'])\\\n",
    "          .groupby(['standard_type', 'phylum_id'])\\\n",
    "          .size().unstack(fill_value=0)\\\n",
    "          .drop(columns=[-1])\\\n",
    "          .loc[activities.standard_type.value_counts().head(6).index]\\\n",
    "          .rename(columns=taxid_to_name)\n",
    "summary.style.format(\"{:,}\")"
   ]
  },
  {
   "cell_type": "code",
   "execution_count": null,
   "id": "0eba4ceb-d609-4fcc-b13c-6a2abc32ece0",
   "metadata": {},
   "outputs": [],
   "source": [
    "summary = \\\n",
    "activities.drop_duplicates(['assay_tax_id','molregno'])\\\n",
    "          .groupby(['standard_type', 'family_id'])\\\n",
    "          .size().unstack(fill_value=0)\\\n",
    "          .drop(columns=[-1])\\\n",
    "          .loc[activities.standard_type.value_counts().head(6).index]\\\n",
    "          .rename(columns=taxid_to_name)\n",
    "summary.style.format(\"{:,}\")"
   ]
  },
  {
   "cell_type": "code",
   "execution_count": null,
   "id": "0ecdda6e-e058-4fd1-a513-252e7bcd34c4",
   "metadata": {},
   "outputs": [],
   "source": [
    "from boilerplate import molar_scale\n",
    "import numpy as np\n",
    "\n",
    "activities['unit_scale'] = activities.standard_units.fillna('').apply(molar_scale)\n",
    "activities['pk'] = - (activities.unit_scale * activities.standard_value).apply(np.log10)"
   ]
  },
  {
   "cell_type": "code",
   "execution_count": null,
   "id": "e2ea5336-1e55-4949-bd8e-1bb90de28009",
   "metadata": {},
   "outputs": [],
   "source": [
    "placeholders = ', '.join(activities.molregno.astype(str).apply(\"'{}'\".format).unique())\n",
    "\n",
    "query = f\"SELECT * FROM COMPOUND_STRUCTURES WHERE molregno IN ({placeholders})\"\n",
    "molregno = pd.read_sql_query(query, conn)"
   ]
  },
  {
   "cell_type": "code",
   "execution_count": null,
   "id": "9910b189-871f-4ae9-ac5e-991a2cdccd27",
   "metadata": {},
   "outputs": [],
   "source": [
    "from rdkit import Chem\n",
    "\n",
    "molregno['mol'] = molregno.molfile.apply(Chem.MolFromMolBlock)"
   ]
  },
  {
   "cell_type": "code",
   "execution_count": null,
   "id": "30549774-e510-42f5-bd63-fdbd0818569c",
   "metadata": {},
   "outputs": [],
   "source": [
    "molregno['HAC'] = molregno.mol.apply(Chem.Mol.GetNumHeavyAtoms)"
   ]
  },
  {
   "cell_type": "code",
   "execution_count": null,
   "id": "6618ea03-8f37-4724-9f41-bfa031235779",
   "metadata": {},
   "outputs": [],
   "source": [
    "from rdkit.Chem import Draw\n",
    "\n",
    "for genus_id, _ in activities.drop_duplicates(['genus_id','molregno']).genus_id.value_counts().items():\n",
    "    if genus_id == -1:\n",
    "        continue\n",
    "    genus_name = taxid_to_name[genus_id]\n",
    "    print(genus_name)\n",
    "    top50 = activities.loc[activities.genus_id == genus_id]\\\n",
    "                      .sort_values('pk', ascending=False)\\\n",
    "                      .drop_duplicates(['molregno'])\\\n",
    "                      .head(50)\n",
    "    if len(top50) == 0:\n",
    "        continue\n",
    "    top50['mol'] = top50.molregno.map(molregno.set_index('molregno').mol.to_dict())\n",
    "    top50 = top50.loc[~top50.mol.isna()]\n",
    "    legends: pd.Series = (top50.standard_type.astype(str).str.replace(' ','_') +'='+top50.standard_value.astype(str)+top50.standard_units.astype(str))\n",
    "    png = Draw.MolsToGridImage(top50.mol.to_list(),\n",
    "                         molsPerRow=5,\n",
    "                         legends=legends.to_list())\n",
    "    png.save(f'{genus_name}.png')"
   ]
  },
  {
   "cell_type": "code",
   "execution_count": null,
   "id": "78f7a13a-11d4-44d8-baad-9dbd62bc87b9",
   "metadata": {},
   "outputs": [],
   "source": [
    "# for genus_id, _ in activities.drop_duplicates(['genus_id','molregno']).genus_id.value_counts().items():\n",
    "#     if genus_id == -1:\n",
    "#         continue\n",
    "#     genus_name = taxid_to_name[genus_id]\n",
    "#     print(f'#### {genus_name}\\n\\n![{genus_name}](images/{genus_name}.png)\\n')"
   ]
  },
  {
   "cell_type": "code",
   "execution_count": null,
   "id": "eb007c55-3455-40fb-9f7c-71bca7393ab3",
   "metadata": {},
   "outputs": [],
   "source": [
    "import pandas as pd\n",
    "import numpy as np\n",
    "from rdkit import Chem\n",
    "from rdkit.Chem import AllChem\n",
    "from rdkit.Chem import rdFingerprintGenerator\n",
    "from sklearn.manifold import TSNE\n",
    "from scipy.spatial.distance import pdist, squareform\n",
    "\n",
    "print('Generating fingerprints...')\n",
    "\n",
    "def calculate_morgan_fingerprints(mol_series, radius=2, n_bits=1024):\n",
    "    fingerprints = []\n",
    "    generator = rdFingerprintGenerator.GetMorganGenerator( radius=radius, fpSize=n_bits)\n",
    "    for mol in mol_series:\n",
    "        fp = generator.GetFingerprintAsNumPy(mol)\n",
    "        fingerprints.append(fp)\n",
    "    return np.array(fingerprints)\n",
    "\n",
    "molregno['mol'] = molregno.mol.fillna(Chem.Mol())\n",
    "fingerprints = calculate_morgan_fingerprints(molregno.mol)\n",
    "\n",
    "print('Compute Tanimoto distances...')\n",
    "def tanimoto_distance(x, y):\n",
    "    return 1 - np.sum(x & y) / np.sum(x | y)\n",
    "\n",
    "tanimoto_distances = pdist(fingerprints, metric=tanimoto_distance)\n",
    "distance_matrix = squareform(tanimoto_distances)"
   ]
  },
  {
   "cell_type": "code",
   "execution_count": null,
   "id": "05a71a18-163d-4d56-860b-97f99c52381d",
   "metadata": {},
   "outputs": [],
   "source": [
    "print('Perform t-SNE...')\n",
    "tsne = TSNE(metric='precomputed', init='random')\n",
    "tsne_results = tsne.fit_transform(distance_matrix)\n",
    "\n",
    "molregno['tSNE1'] = tsne_results[:, 0]\n",
    "molregno['tSNE2'] = tsne_results[:, 1]"
   ]
  },
  {
   "cell_type": "code",
   "execution_count": null,
   "id": "7b1e17ed-1e27-4b3d-9f55-a30542a38965",
   "metadata": {},
   "outputs": [],
   "source": [
    "def get_genera(molregno):\n",
    "    genera = activities.genus_id.loc[activities.molregno == molregno].unique()\n",
    "    named_genera = [taxid_to_name[g] for g in genera if g != -1]\n",
    "    return '+'.join(sorted(named_genera))\n",
    "\n",
    "molregno['in_genera'] = molregno.molregno.apply(get_genera)"
   ]
  },
  {
   "cell_type": "code",
   "execution_count": null,
   "id": "8e40281f-0806-498b-873d-9178bf28e5ab",
   "metadata": {},
   "outputs": [],
   "source": [
    "def get_families(molregno):\n",
    "    families = activities.family_id.loc[activities.molregno == molregno].unique()\n",
    "    named_families = [taxid_to_name[g] for g in families if g != -1]\n",
    "    return '+'.join(sorted(named_families))\n",
    "\n",
    "molregno['in_families'] = molregno.molregno.apply(get_families)"
   ]
  },
  {
   "cell_type": "code",
   "execution_count": null,
   "id": "76f8e3cf-90b2-445b-8bf7-e35d9aa52902",
   "metadata": {},
   "outputs": [],
   "source": [
    "import plotly.express as px\n",
    "\n",
    "# aggregating values\n",
    "molregno['in_families_trimmed'] =  molregno.in_families.apply(lambda v: v if v.count('+') == 0 else 'multiple families')\n",
    "family_counts = molregno['in_families_trimmed'].value_counts()\n",
    "rename_map = {name: name if counts >= 100 else 'less studied families' for name, counts in family_counts.items()}\n",
    "molregno['in_families_trimmed'] =  molregno['in_families_trimmed'].map(rename_map)\n",
    "\n",
    "label_order = family_counts.index.to_list()\n",
    "label_order.pop(label_order.index('multiple families'))\n",
    "label_order.append('multiple families')\n",
    "label_order.append('less studied families')\n",
    "\n",
    "px.scatter(molregno.loc[(molregno.HAC < 60) & (molregno.HAC >= 20)], 'tSNE1', 'tSNE2', color='in_families_trimmed',\n",
    "          template='plotly_white',\n",
    "           category_orders={'in_families_trimmed': label_order},\n",
    "          title='Diversity of compounds with between 20–60 heavy atoms (tSNE by Tanomoto similarity on 1024bit Morgan fingerprints)',\n",
    "           labels={'in_families_trimmed': 'Family'},\n",
    "           height=800,\n",
    "          )"
   ]
  },
  {
   "cell_type": "code",
   "execution_count": null,
   "id": "71c3384d-bf02-4631-8d5d-9e6c016e3008",
   "metadata": {},
   "outputs": [],
   "source": [
    "import plotly.express as px\n",
    "\n",
    "# aggregating values\n",
    "molregno['in_genera_trimmed'] =  molregno.in_genera.apply(lambda v: v if v.count('+') == 0 else 'multiple genera')\n",
    "genus_counts = molregno['in_genera_trimmed'].value_counts()\n",
    "rename_map = {name: name if counts >= 100 else 'less studied genera' for name, counts in genus_counts.items()}\n",
    "molregno['in_genera_trimmed'] =  molregno['in_genera_trimmed'].map(rename_map)\n",
    "\n",
    "label_order = genus_counts.index.to_list()\n",
    "label_order.pop(label_order.index('multiple genera'))\n",
    "label_order.append('multiple genera')\n",
    "label_order.append('less studied genera')\n",
    "\n",
    "px.scatter(molregno.loc[(molregno.HAC < 60) & (molregno.HAC >= 20)], 'tSNE1', 'tSNE2', color='in_genera_trimmed',\n",
    "          template='plotly_white',\n",
    "           category_orders={'in_genera_trimmed': label_order},\n",
    "          title='Diversity of compounds with between 20–60 heavy atoms (tSNE by Tanomoto similarity on 1024bit Morgan fingerprints)',\n",
    "           labels={'in_genera_trimmed': 'Genus'},\n",
    "           height=800,\n",
    "          )"
   ]
  },
  {
   "cell_type": "code",
   "execution_count": null,
   "id": "5f113466-31aa-468c-b04e-daffeddd944d",
   "metadata": {},
   "outputs": [],
   "source": [
    "d = (molregno.tSNE1**2 + molregno.tSNE2**2)**0.5\n",
    "\n",
    "sub = molregno.loc[d.sort_values(ascending=True).index]\n",
    "sub = sub.loc[(sub.HAC < 60) & (sub.HAC >= 20)].head(20)\n",
    "Draw.MolsToGridImage(sub.mol.to_list(), legends=sub.in_families_trimmed.to_list(), molsPerRow=5)"
   ]
  },
  {
   "cell_type": "code",
   "execution_count": null,
   "id": "f3c001ce-1321-403c-b369-281b4847874d",
   "metadata": {},
   "outputs": [],
   "source": [
    "sub = molregno.loc[d.sort_values(ascending=False).index]\n",
    "sub = sub.loc[(sub.HAC < 60) & (sub.HAC >= 20)].head(50)\n",
    "Draw.MolsToGridImage(sub.mol.to_list(), legends=sub.in_genera_trimmed.to_list(), molsPerRow=5)"
   ]
  },
  {
   "cell_type": "code",
   "execution_count": null,
   "id": "ea9fea19-270e-452a-b193-e6b45139adfc",
   "metadata": {},
   "outputs": [],
   "source": [
    "print(summary.T.sort_values('Kd', ascending=False).to_markdown())"
   ]
  },
  {
   "cell_type": "code",
   "execution_count": null,
   "id": "5653392b-cc50-48d8-ad09-5246ca897d23",
   "metadata": {},
   "outputs": [],
   "source": [
    "for activities.genus_id.value_counts()\n",
    "\n",
    "\n",
    "activities.drop_duplicates(['molregno'])\\\n",
    "          .groupby(['standard_type', 'genus_id'])\\\n",
    "          .size().unstack(fill_value=0)\\\n",
    "          .drop(columns=[-1])\\\n",
    "          .loc[activities.standard_type.value_counts().head(6).index]\\\n",
    "          .rename(columns=taxid_to_name)\n",
    "summary.style.format(\"{:,}\")"
   ]
  },
  {
   "cell_type": "code",
   "execution_count": null,
   "id": "25f1dc88-9be6-47e8-baf5-c7072145ccf1",
   "metadata": {},
   "outputs": [],
   "source": []
  }
 ],
 "metadata": {
  "kernelspec": {
   "display_name": "Python [conda env:base] *",
   "language": "python",
   "name": "conda-base-py"
  },
  "language_info": {
   "codemirror_mode": {
    "name": "ipython",
    "version": 3
   },
   "file_extension": ".py",
   "mimetype": "text/x-python",
   "name": "python",
   "nbconvert_exporter": "python",
   "pygments_lexer": "ipython3",
   "version": "3.11.10"
  }
 },
 "nbformat": 4,
 "nbformat_minor": 5
}