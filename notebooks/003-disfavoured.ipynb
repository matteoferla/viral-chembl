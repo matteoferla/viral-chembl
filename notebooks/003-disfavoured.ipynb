{
 "cells": [
  {
   "cell_type": "code",
   "execution_count": null,
   "id": "f58534c6-2617-41a0-a040-6b3a4dc42271",
   "metadata": {},
   "outputs": [],
   "source": [
    "import sqlite3\n",
    "\n",
    "conn = sqlite3.connect('/tmp/chembl_35/chembl_35_sqlite/chembl_35.db')\n",
    "cursor = conn.cursor()"
   ]
  },
  {
   "cell_type": "code",
   "execution_count": null,
   "id": "9ddaa664-ec88-426c-a89d-d2ad8d85d1ff",
   "metadata": {},
   "outputs": [],
   "source": [
    "import pandas as pd\n",
    "\n",
    "from boilerplate import list_tables, get_table_schema, sample, print_size"
   ]
  },
  {
   "cell_type": "code",
   "execution_count": null,
   "id": "d2d58261-b636-4633-9739-88f927028b0a",
   "metadata": {},
   "outputs": [],
   "source": [
    "from boilerplate import TaxIdMapper\n",
    "\n",
    "taxid_mapper = TaxIdMapper()"
   ]
  },
  {
   "cell_type": "code",
   "execution_count": null,
   "id": "fbd83f88-dd31-440d-a8e1-d9a4338899be",
   "metadata": {},
   "outputs": [],
   "source": [
    "query = f\"SELECT assay_id, assay_type, assay_tax_id, tid FROM assays WHERE assay_type = 'B'\"\n",
    "assays = pd.read_sql_query(query, conn)\n",
    "\n",
    "print(f'{len(assays)} biochem assays for {len(assays.assay_tax_id.unique())} taxa')"
   ]
  },
  {
   "cell_type": "code",
   "execution_count": null,
   "id": "274283c3-ed0e-441e-b75c-d5151cf25a80",
   "metadata": {},
   "outputs": [],
   "source": [
    "query = f\"SELECT activity_id, assay_id, molregno, standard_type, standard_units, standard_value FROM activities\"\n",
    "activities = pd.read_sql_query(query, conn)\n",
    "\n",
    "print(f'{len(activities)} activities for {len(assays.assay_id.unique())} assays')"
   ]
  },
  {
   "cell_type": "code",
   "execution_count": null,
   "id": "313608b0-65d5-4f03-9be9-67402f16f219",
   "metadata": {},
   "outputs": [],
   "source": [
    "from boilerplate import molar_scale\n",
    "import numpy as np\n",
    "\n",
    "activities['unit_scale'] = activities.standard_units.apply(molar_scale)\n",
    "activities['pkD'] = - (activities.loc[activities.standard_type == 'Kd'].unit_scale * activities.loc[activities.standard_type == 'Kd'].standard_value).apply(np.log10)"
   ]
  },
  {
   "cell_type": "code",
   "execution_count": null,
   "id": "f85a26ba-f743-4327-9704-0f1b8ffec578",
   "metadata": {},
   "outputs": [],
   "source": [
    "taxid2rank = {}\n",
    "\n",
    "with open(\"/tmp/nodes.dmp\") as f:\n",
    "    for line in f:\n",
    "        parts = [p.strip() for p in line.split(\"|\")]\n",
    "        taxid2rank[int(parts[0])] = parts[2]"
   ]
  },
  {
   "cell_type": "code",
   "execution_count": null,
   "id": "b4ea81db-3107-41cb-8ba9-f689d9cc8a83",
   "metadata": {},
   "outputs": [],
   "source": [
    "assay_id2tax_id = assays.loc[~assays.assay_tax_id.isna()].set_index('assay_id').assay_tax_id.fillna(-1).astype(int).to_dict()\n",
    "activities['assay_tax_id'] = activities.assay_id.map( assay_id2tax_id )\n",
    "activities['assay_tax_id'] = activities['assay_tax_id'].fillna(-1).astype(int)"
   ]
  },
  {
   "cell_type": "code",
   "execution_count": null,
   "id": "d4f83e4d-e966-438f-9907-9d7d2c25ccca",
   "metadata": {},
   "outputs": [],
   "source": [
    "parent_ids = {'human': 9606,\n",
    "             'bacteria': 2,\n",
    "             'virus': 10239,\n",
    "             'fungi': 4751,\n",
    "             'Apicomplexa': 5794, #Apicomplexa Plasmodium\n",
    "             'Euglenozoa': 33682, #Euglenozoa (e.g. Trypanosoma, Leishmania)\n",
    "             'Amoebozoa': 554915, # Amoebozoa (e.g. Entamoeba)\n",
    "             'Metamonada': 2611341 # Metamonada (e.g. Giardia)\n",
    "            }\n",
    "\n",
    "taxid_mapper.target_ids = set(parent_ids.values())"
   ]
  },
  {
   "cell_type": "code",
   "execution_count": null,
   "id": "34ca6409-6fe2-486a-8ee7-f6fa0c705431",
   "metadata": {},
   "outputs": [],
   "source": [
    "activities['parent'] = activities.assay_tax_id.apply(taxid_mapper.get_ancestor_in_set)"
   ]
  },
  {
   "cell_type": "code",
   "execution_count": null,
   "id": "87baeb47-51e0-419c-bd52-45e924d048ef",
   "metadata": {},
   "outputs": [],
   "source": [
    "activities['parent'].unique()"
   ]
  },
  {
   "cell_type": "code",
   "execution_count": null,
   "id": "b78d5ad6-5bfc-45e7-818c-cc33d195d707",
   "metadata": {},
   "outputs": [],
   "source": [
    "def get_name(parent):\n",
    "    if parent in (5794, 33682, 554915, 2611341):\n",
    "        return 'protozoa'\n",
    "    else:\n",
    "        for name, tax_id in parent_ids.items():\n",
    "            if tax_id == parent:\n",
    "                return name\n",
    "    return 'unknown'\n",
    "\n",
    "activities['parent_name'] = activities.parent.apply(get_name)"
   ]
  },
  {
   "cell_type": "code",
   "execution_count": null,
   "id": "053579a8-1d1b-48b2-a26f-a1942c12a314",
   "metadata": {},
   "outputs": [],
   "source": [
    "sub = activities.loc[(activities.parent_name != 'unknown') & (activities.standard_type == 'Kd')]"
   ]
  },
  {
   "cell_type": "code",
   "execution_count": null,
   "id": "51207b2f-6894-4ccc-a283-52abe65354ff",
   "metadata": {},
   "outputs": [],
   "source": [
    "import plotly.express as px\n",
    "import numpy as np\n",
    "fig = \\\n",
    "px.violin(sub, x='pkD',\n",
    "              y='parent_name',\n",
    "              #box=True,\n",
    "             template='plotly_white',\n",
    "             title='Distribution of KD activities across clades',\n",
    "             category_orders={'parent_name': ['human',\n",
    "                                              'protozoa',\n",
    "                                              'fungi',\n",
    "                                              'bacteria',\n",
    "                                              'virus',\n",
    "                                             ]},\n",
    "             labels={'parent_name': 'group',},)\n",
    "fig.update_traces(scalemode='count')\n",
    "fig.show()\n",
    "# facet_col"
   ]
  },
  {
   "cell_type": "code",
   "execution_count": null,
   "id": "712ca7a8-fa94-4b39-be44-a0c808fe678c",
   "metadata": {},
   "outputs": [],
   "source": [
    "fig = \\\n",
    "px.pie(sub.drop_duplicates(['molregno', 'assay_tax_id']),'parent_name',\n",
    "              #box=True,\n",
    "             template='plotly_white',\n",
    "             title='Number of KD assay points (one per compound / tax-id)',\n",
    "             category_orders={'parent_name': ['human',\n",
    "                                              'fungi',\n",
    "                                              'protozoa',\n",
    "                                              'bacteria',\n",
    "                                              'virus',\n",
    "                                             ]},\n",
    "             labels={'parent_name': 'group',},\n",
    "      )\n",
    "fig.update_traces(hoverinfo='label+percent', textinfo='value')\n",
    "fig.show()"
   ]
  },
  {
   "cell_type": "code",
   "execution_count": null,
   "id": "5853ac16-21cb-4566-b20a-873dfb144fbb",
   "metadata": {},
   "outputs": [],
   "source": [
    "sub = activities.loc[(activities.parent_name != 'unknown')]\n",
    "\n",
    "fig = \\\n",
    "px.pie(sub.drop_duplicates(['molregno', 'assay_tax_id']),'parent_name',\n",
    "              #box=True,\n",
    "             template='plotly_white',\n",
    "             title='Number of assay points (one per compound / tax-id)',\n",
    "             category_orders={'parent_name': ['human',\n",
    "                                              'fungi',\n",
    "                                              'protozoa',\n",
    "                                              'bacteria',\n",
    "                                              'virus',\n",
    "                                             ]},\n",
    "             labels={'parent_name': 'group',},\n",
    "      )\n",
    "fig.update_traces(hoverinfo='label+percent', textinfo='value')\n",
    "fig.show()"
   ]
  },
  {
   "cell_type": "code",
   "execution_count": null,
   "id": "86e85734-30e0-4a78-8d56-1987d18bb3e9",
   "metadata": {},
   "outputs": [],
   "source": [
    "summary = \\\n",
    "activities.groupby(['standard_type', 'parent_name'])\\\n",
    "          .size().unstack(fill_value=0)\\\n",
    "          .loc[activities.standard_type.value_counts().head(20).index]\\\n",
    "          [['human', 'fungi', 'protozoa', 'bacteria', 'virus', 'unknown' ]]\n",
    "summary.style.format(\"{:,}\")"
   ]
  },
  {
   "cell_type": "code",
   "execution_count": null,
   "id": "d8ef422c-0326-4292-ba30-084b421deb6d",
   "metadata": {},
   "outputs": [],
   "source": [
    "print(summary.to_markdown())"
   ]
  },
  {
   "cell_type": "code",
   "execution_count": null,
   "id": "1543434a-a7b7-4f87-802b-e8bed2b3c4c1",
   "metadata": {},
   "outputs": [],
   "source": [
    "activities.loc[ activities.parent_name == 'virus'].to_csv('viral_activities.csv')"
   ]
  },
  {
   "cell_type": "code",
   "execution_count": null,
   "id": "160becb5-750c-4884-8eff-ad6181b8b18c",
   "metadata": {},
   "outputs": [],
   "source": []
  },
  {
   "cell_type": "code",
   "execution_count": null,
   "id": "baccf1bb-b748-4a0f-8153-017909a388fe",
   "metadata": {},
   "outputs": [],
   "source": []
  }
 ],
 "metadata": {
  "kernelspec": {
   "display_name": "Python [conda env:base] *",
   "language": "python",
   "name": "conda-base-py"
  },
  "language_info": {
   "codemirror_mode": {
    "name": "ipython",
    "version": 3
   },
   "file_extension": ".py",
   "mimetype": "text/x-python",
   "name": "python",
   "nbconvert_exporter": "python",
   "pygments_lexer": "ipython3",
   "version": "3.11.10"
  }
 },
 "nbformat": 4,
 "nbformat_minor": 5
}