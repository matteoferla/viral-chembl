{
 "cells": [
  {
   "cell_type": "code",
   "execution_count": null,
   "id": "56711b4b-eec2-4b82-9ff7-f9fbbded6638",
   "metadata": {},
   "outputs": [],
   "source": [
    "import sqlite3\n",
    "\n",
    "conn = sqlite3.connect('/tmp/chembl_35/chembl_35_sqlite/chembl_35.db')\n",
    "cursor = conn.cursor()"
   ]
  },
  {
   "cell_type": "code",
   "execution_count": null,
   "id": "d2dcb753-69be-4c5a-b5cb-51771f67d2f0",
   "metadata": {},
   "outputs": [],
   "source": [
    "import pandas as pd\n",
    "\n",
    "from boilerplate import list_tables, get_table_schema, sample, print_size"
   ]
  },
  {
   "cell_type": "code",
   "execution_count": null,
   "id": "cb4f44fa-a9ed-4aff-8a1d-d4b481a982e2",
   "metadata": {},
   "outputs": [],
   "source": [
    "tables = list_tables(conn)\n",
    "print(tables)"
   ]
  },
  {
   "cell_type": "code",
   "execution_count": null,
   "id": "2bf345e2-b40c-49db-ae20-c89a4439533d",
   "metadata": {},
   "outputs": [],
   "source": [
    "for table in tables:\n",
    "    if 'bind' in table:\n",
    "        print(table)\n",
    "\n",
    "for table in tables:\n",
    "    if 'assay' in table:\n",
    "        print(table)\n",
    "\n",
    "for table in tables:\n",
    "    if 'act' in table:\n",
    "        print(table)\n",
    "\n",
    "for table in tables:\n",
    "    if 'target' in table:\n",
    "        print(table)"
   ]
  },
  {
   "cell_type": "code",
   "execution_count": null,
   "id": "9a1f54dd-86df-4e23-80a2-d6d8742a5fc4",
   "metadata": {},
   "outputs": [],
   "source": [
    "sample(conn, 'assay_type')"
   ]
  },
  {
   "cell_type": "markdown",
   "id": "52f25942-818e-4e89-95f5-64a17bf5733a",
   "metadata": {},
   "source": [
    "assay_type `B` for binding"
   ]
  },
  {
   "cell_type": "code",
   "execution_count": null,
   "id": "f6b80587-6fd0-4eb5-b4a6-88c1e6c59a63",
   "metadata": {},
   "outputs": [],
   "source": [
    "sample(conn, 'assay_classification')"
   ]
  },
  {
   "cell_type": "code",
   "execution_count": null,
   "id": "137e13e4-1eb0-4e55-9dd8-6457cfc10955",
   "metadata": {},
   "outputs": [],
   "source": [
    "sample(conn, 'activities')"
   ]
  },
  {
   "cell_type": "code",
   "execution_count": null,
   "id": "b9ca456f-f634-43c7-a31d-e9bfa43e1fb4",
   "metadata": {
    "scrolled": true
   },
   "outputs": [],
   "source": [
    "sample(conn, 'activities', n=10_000).standard_type.value_counts().to_dict()"
   ]
  },
  {
   "cell_type": "markdown",
   "id": "cdd303ec-3d2e-4cc1-b7b9-dd13a7c17d63",
   "metadata": {},
   "source": [
    "'Potency' is a catch all... but likely KD if confidence is good (7+?)"
   ]
  },
  {
   "cell_type": "code",
   "execution_count": null,
   "id": "3716da68-0012-431f-b4db-654db70099fa",
   "metadata": {},
   "outputs": [],
   "source": [
    "kd_like_types = [\"Kd\", \"KD\", \"Potency\", \"Binding affinity\", \"pKD\", \"Log K\", \"K\", \"Kb\", \"Log Ki\", \"log1/Ki\", \"Ka\"]\n",
    "placeholders = ','.join(f\"'{s}'\" for s in kd_like_types)\n",
    "query = f\"SELECT * FROM activities WHERE standard_type IN ({placeholders})\"\n",
    "activity = pd.read_sql_query(query, conn)"
   ]
  },
  {
   "cell_type": "code",
   "execution_count": null,
   "id": "a40e50d9-5a9a-4d49-abf8-bbc703f5e5dd",
   "metadata": {},
   "outputs": [],
   "source": [
    "print(f'{len(activity):,} entries')\n",
    "\n",
    "#activity.sample(5) #molregno assay_id\tstandard_value\tstandard_units standard_type\n",
    "\n",
    "activity.standard_type.value_counts()\n",
    "#print(activity.standard_type.value_counts().to_markdown())"
   ]
  },
  {
   "cell_type": "code",
   "execution_count": null,
   "id": "863f9795-b808-4e11-91cd-113a3a23cf3e",
   "metadata": {},
   "outputs": [],
   "source": [
    "len( activity.loc[activity.standard_type == 'Kd'].molregno.drop_duplicates() )"
   ]
  },
  {
   "cell_type": "code",
   "execution_count": null,
   "id": "484b122b-b3f1-4b80-8d5b-7474f793930f",
   "metadata": {},
   "outputs": [],
   "source": [
    "sample(conn, 'assays')"
   ]
  },
  {
   "cell_type": "code",
   "execution_count": null,
   "id": "9bf03675-1364-4f30-8a71-c0fa7270a826",
   "metadata": {},
   "outputs": [],
   "source": [
    "placeholders = ','.join(f\"'{assay_id}'\" for assay_id in activity.assay_id.drop_duplicates())\n",
    "query = f\"SELECT * FROM assays WHERE assay_id IN ({placeholders})\"\n",
    "assay = pd.read_sql_query(query, conn)\n",
    "\n",
    "print(f'{len(assay):,} entries')"
   ]
  },
  {
   "cell_type": "code",
   "execution_count": null,
   "id": "80f6a937-3831-4a5a-8ee2-eb1f87d6c8e3",
   "metadata": {},
   "outputs": [],
   "source": [
    "print('Misclassified if not `B`?')\n",
    "\n",
    "assay.assay_type.value_counts()"
   ]
  },
  {
   "cell_type": "code",
   "execution_count": null,
   "id": "214ac922-197b-4d9e-a43e-c4315cc2e342",
   "metadata": {},
   "outputs": [],
   "source": [
    "clean_type_ids = activity.loc[activity.standard_type == 'Kd'].assay_id.to_list()\n",
    "assay['is_KD'] = assay.assay_id.isin(clean_type_ids)\n",
    "assay.groupby('is_KD').assay_type.value_counts()"
   ]
  },
  {
   "cell_type": "markdown",
   "id": "cc9141ed-fae7-4d93-915e-80d31e0ef7c9",
   "metadata": {},
   "source": [
    "The majority of the KD entries are `B` type.\n",
    "However, in going via assay_id the number of non-KD assays are gone down,\n",
    "So a lot where many measurements per single assay."
   ]
  },
  {
   "cell_type": "markdown",
   "id": "33beea95-2084-415d-bf10-9458dfecc85a",
   "metadata": {},
   "source": [
    "## TaxID ontology\n",
    "\n",
    "Get pathogens. I will deal with women's health category later."
   ]
  },
  {
   "cell_type": "code",
   "execution_count": null,
   "id": "ceea574d-5830-4906-8840-a6a5673ab3ec",
   "metadata": {},
   "outputs": [],
   "source": [
    "from pathlib import Path\n",
    "\n",
    "def load_taxonomy_nodes(nodes_path: Path) -> dict[int, int]:\n",
    "    \"\"\"\n",
    "    Load taxid → parent_taxid mapping from nodes.dmp\n",
    "    \"\"\"\n",
    "    taxid_to_parent = {}\n",
    "    with nodes_path.open(encoding=\"utf-8\") as f:\n",
    "        for line in f:\n",
    "            parts = [p.strip() for p in line.split(\"|\")]\n",
    "            taxid, parent_taxid = int(parts[0]), int(parts[1])\n",
    "            taxid_to_parent[taxid] = parent_taxid\n",
    "    return taxid_to_parent\n",
    "\n",
    "taxid_to_parent = load_taxonomy_nodes(Path(\"/tmp/nodes.dmp\"))"
   ]
  },
  {
   "cell_type": "code",
   "execution_count": null,
   "id": "521653bd-ed17-41a4-a525-297cfa6a2e4f",
   "metadata": {},
   "outputs": [],
   "source": [
    "import json\n",
    "\n",
    "json.dump(taxid_to_parent, Path('taxid_to_parent.json').open('w'))"
   ]
  },
  {
   "cell_type": "code",
   "execution_count": null,
   "id": "bf854fb1-b27c-4699-89e3-6c775c7f8ae1",
   "metadata": {},
   "outputs": [],
   "source": [
    "from typing import Set\n",
    "\n",
    "def has_ancestor_in_set(taxid: int, target_ids: Set[int]) -> bool:\n",
    "    \"\"\"Check if any ancestor of a taxid is in the target set.\"\"\"\n",
    "    parent = get_ancestor_in_set(taxid, target_ids)\n",
    "    return parent != -1\n",
    "\n",
    "def get_ancestor_in_set(taxid: int, target_ids: Set[int]) -> bool:\n",
    "    \"\"\"Check if any ancestor of a taxid is in the target set.\"\"\"\n",
    "    visited = set()\n",
    "    if str(taxid) == 'nan':\n",
    "        return -1\n",
    "    taxid = int(taxid)\n",
    "    while True:\n",
    "        if taxid == 1: # 1 is the root of NCBI taxonomy\n",
    "            break\n",
    "        if taxid in target_ids:\n",
    "            return taxid\n",
    "        if taxid in visited:\n",
    "            break\n",
    "        if taxid == -1:\n",
    "            break # error\n",
    "        visited.add(taxid)\n",
    "        taxid = taxid_to_parent.get(taxid, -1)\n",
    "    return -1\n",
    "\n",
    "\n",
    "\n",
    "# protists is not valid, so I asked chatGTP for names but fetched IDs myself\n",
    "pathogenic_parent_ids = {'bacteria': 2,\n",
    "                         'virus': 10239,\n",
    "                         'fungi': 4751, # \n",
    "                         'Apicomplexa': 5794, #Apicomplexa Plasmodium\n",
    "                         'Euglenozoa': 33682, #Euglenozoa (e.g. Trypanosoma, Leishmania)\n",
    "                         'Amoebozoa': 554915, # Amoebozoa (e.g. Entamoeba)\n",
    "                         'Metamonada': 2611341 # Metamonada (e.g. Giardia)\n",
    "                        }"
   ]
  },
  {
   "cell_type": "code",
   "execution_count": null,
   "id": "9a2fd5be-3697-4642-a512-03b991248ed0",
   "metadata": {},
   "outputs": [],
   "source": [
    "for name, tax_id in [('human', 9606), ('E. coli', 562)]:\n",
    "    print(f'Is {name} a parasite?', has_ancestor_in_set(tax_id, pathogenic_parent_ids.values()))"
   ]
  },
  {
   "cell_type": "code",
   "execution_count": null,
   "id": "8bab8511-6ecc-43ec-b54e-a5de5e109bc8",
   "metadata": {},
   "outputs": [],
   "source": [
    "is_pathogen = lambda tax_id: has_ancestor_in_set(tax_id, pathogenic_parent_ids.values())\n",
    "assay['pathogenic'] = assay.assay_tax_id.apply(is_pathogen).astype(bool)\n",
    "\n",
    "def get_pathogen_type(tax_id):\n",
    "    parent = get_ancestor_in_set(tax_id, pathogenic_parent_ids.values())\n",
    "    parent_group = dict(zip(pathogenic_parent_ids.values(), pathogenic_parent_ids.keys())).get(parent, 'not-pathogenic')\n",
    "    if parent_group in ('Apicomplexa','Euglenozoa','Amoebozoa', 'Metamonada'):\n",
    "        return 'protist'\n",
    "    return parent_group\n",
    "\n",
    "assay['pathogenic_parent'] = assay.assay_tax_id.apply(get_pathogen_type)"
   ]
  },
  {
   "cell_type": "code",
   "execution_count": null,
   "id": "05d294f6-a45a-4528-a02e-ee31991e2a5b",
   "metadata": {},
   "outputs": [],
   "source": [
    "assay.groupby('is_KD')['pathogenic_parent'].value_counts()"
   ]
  },
  {
   "cell_type": "markdown",
   "id": "488a89b2-7bf5-406a-a222-c1565717cc68",
   "metadata": {},
   "source": [
    "Let's go back to activity"
   ]
  },
  {
   "cell_type": "code",
   "execution_count": null,
   "id": "fc982d5a-d82a-477e-9805-1568c8348888",
   "metadata": {},
   "outputs": [],
   "source": [
    "activity['assay_organism'] = activity.assay_id.map( assay.set_index('assay_id').assay_organism ).fillna('NA')\n",
    "activity['assay_tax_id'] = activity.assay_id.map( assay.set_index('assay_id').assay_tax_id ).fillna(-1)\n",
    "activity['pathogenic'] = activity.assay_tax_id.apply(is_pathogen).astype(bool)\n",
    "activity['pathogenic_parent'] = activity.assay_tax_id.apply(get_pathogen_type)"
   ]
  },
  {
   "cell_type": "code",
   "execution_count": null,
   "id": "3fef00c2-793b-4c84-bb4f-1efe0cb12ee4",
   "metadata": {},
   "outputs": [],
   "source": []
  },
  {
   "cell_type": "code",
   "execution_count": null,
   "id": "79f04bcf-11b0-4caf-bec0-90954580a3e7",
   "metadata": {},
   "outputs": [],
   "source": []
  },
  {
   "cell_type": "code",
   "execution_count": null,
   "id": "546ae005-8441-485e-bf65-f15eaac7667d",
   "metadata": {},
   "outputs": [],
   "source": [
    "def molar_scale(unit):\n",
    "    if unit is None:\n",
    "        return float('nan')        \n",
    "    if 's' in unit or 'kcal' in unit or 'g' in unit:\n",
    "        return float('nan')\n",
    "    unit = unit.replace(\"'\", \"^\").replace(\"mol/L\", \"M\").replace(\"/M\", \"M\").replace(\" \", \"\")\n",
    "    if unit in ('M'):\n",
    "        return 1\n",
    "    if unit in ('mM', '10^-3M',\"10^3nM\"):\n",
    "        return 10**-3\n",
    "    if unit in ('uM', '10^-6M'):\n",
    "        return 10**-6\n",
    "    if unit in ('nM', '10^-9M'):\n",
    "        return 10**-9\n",
    "    if unit in ('pM', '10^-12M'):\n",
    "        return 10**-12\n",
    "    if unit in ('fM', '10^-15M'):\n",
    "        return 10**-15\n",
    "    return float('nan')\n",
    "    \n",
    "activity['unit_scale']=activity.standard_units.apply(molar_scale)"
   ]
  },
  {
   "cell_type": "code",
   "execution_count": null,
   "id": "773f734a-90be-41c8-b5ac-02051cf285fc",
   "metadata": {},
   "outputs": [],
   "source": [
    "subset = activity.loc[(~activity.unit_scale.isna()) & activity.pathogenic & (activity.standard_type == 'Kd')].drop_duplicates(['pathogenic_parent', 'molregno'])"
   ]
  },
  {
   "cell_type": "code",
   "execution_count": null,
   "id": "28ac4602-fb73-4b80-a821-3c0bfcdf8817",
   "metadata": {
    "scrolled": true
   },
   "outputs": [],
   "source": [
    "subset.assay_organism.value_counts()"
   ]
  },
  {
   "cell_type": "code",
   "execution_count": null,
   "id": "63e2a019-def2-4c6e-9958-cfde2e4ca23a",
   "metadata": {},
   "outputs": [],
   "source": [
    "import plotly.express as px\n",
    "import numpy as np\n",
    "\n",
    "subset['pkD'] = - (subset.unit_scale * subset.standard_value).apply(np.log10)\n",
    "\n",
    "px.histogram(subset, 'pkD',\n",
    "             template='plotly_white',\n",
    "             title='Distribution of KD activities of possibly pathogenic clades',\n",
    "             facet_col='pathogenic_parent')"
   ]
  },
  {
   "cell_type": "code",
   "execution_count": null,
   "id": "e56f8b1a-7513-4fc0-aae3-dda476353256",
   "metadata": {},
   "outputs": [],
   "source": [
    "assays"
   ]
  },
  {
   "cell_type": "code",
   "execution_count": null,
   "id": "d8681486-3c79-4dd4-b973-273b316a1190",
   "metadata": {},
   "outputs": [],
   "source": []
  },
  {
   "cell_type": "code",
   "execution_count": null,
   "id": "cece3e20-236f-4a4d-bca1-5893cfd40b46",
   "metadata": {},
   "outputs": [],
   "source": [
    "component_sequences"
   ]
  },
  {
   "cell_type": "code",
   "execution_count": null,
   "id": "5524adc7-f93b-49da-bf8d-501ba80c1c4b",
   "metadata": {},
   "outputs": [],
   "source": []
  },
  {
   "cell_type": "code",
   "execution_count": null,
   "id": "a785fabb-a8c2-43bd-912f-36fc189c6dee",
   "metadata": {},
   "outputs": [],
   "source": [
    "import pandas as pd\n",
    "\n",
    "sql_query = \"SELECT * FROM assays \"\n",
    "sql_query += \"WHERE assay_type = 'F' \"\n",
    "sql_query += \"ORDER BY RANDOM() LIMIT 10000000\"\n",
    "df = pd.read_sql_query(f\"{sql_query};\", conn)\n",
    "\n",
    "print(f'{len(df):,} entries')\n",
    "df.sample(5)"
   ]
  },
  {
   "cell_type": "code",
   "execution_count": null,
   "id": "b30aa88b-2751-4165-8ad9-8d1dec84e108",
   "metadata": {},
   "outputs": [],
   "source": []
  },
  {
   "cell_type": "code",
   "execution_count": null,
   "id": "1ff15016-bec6-4e42-9601-d0ad4afb1649",
   "metadata": {},
   "outputs": [],
   "source": [
    "df.iloc[1]"
   ]
  },
  {
   "cell_type": "code",
   "execution_count": null,
   "id": "77014da4-c983-40a8-a0af-0e485ea882f3",
   "metadata": {},
   "outputs": [],
   "source": []
  }
 ],
 "metadata": {
  "kernelspec": {
   "display_name": "Python [conda env:base] *",
   "language": "python",
   "name": "conda-base-py"
  },
  "language_info": {
   "codemirror_mode": {
    "name": "ipython",
    "version": 3
   },
   "file_extension": ".py",
   "mimetype": "text/x-python",
   "name": "python",
   "nbconvert_exporter": "python",
   "pygments_lexer": "ipython3",
   "version": "3.11.10"
  }
 },
 "nbformat": 4,
 "nbformat_minor": 5
}